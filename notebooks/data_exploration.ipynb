{
 "cells": [
  {
   "cell_type": "code",
   "execution_count": 1,
   "id": "3e8c1ebd-a7c9-4752-b478-6328e1be9927",
   "metadata": {},
   "outputs": [],
   "source": [
    "# Enable inline plotting for matplotlib, which displays plots directly in the notebook.\n",
    "%matplotlib inline\n",
    "\n",
    "# Load the autoreload extension, which automatically reloads modules before executing code.\n",
    "%load_ext autoreload\n",
    "\n",
    "# Reload all modules (except those excluded by %aimport) every time before executing the Python code typed.\n",
    "%autoreload 2"
   ]
  }
 ],
 "metadata": {
  "kernelspec": {
   "display_name": "Python 3",
   "language": "python",
   "name": "python3"
  },
  "language_info": {
   "codemirror_mode": {
    "name": "ipython",
    "version": 3
   },
   "file_extension": ".py",
   "mimetype": "text/x-python",
   "name": "python",
   "nbconvert_exporter": "python",
   "pygments_lexer": "ipython3",
   "version": "3.6.8"
  }
 },
 "nbformat": 4,
 "nbformat_minor": 5
}
